{
 "cells": [
  {
   "cell_type": "markdown",
   "metadata": {},
   "source": [
    "# Dog Adoption: Create and build data model and deploy into database with Python and PostgreSQL"
   ]
  },
  {
   "cell_type": "code",
   "execution_count": 1,
   "metadata": {},
   "outputs": [
    {
     "name": "stdout",
     "output_type": "stream",
     "text": [
      "Requirement already satisfied: psycopg2-binary in /opt/anaconda3/lib/python3.8/site-packages (2.9.5)\n"
     ]
    }
   ],
   "source": [
    "# Import library\n",
    "!pip3 install psycopg2-binary\n",
    "import psycopg2\n",
    "import pandas as pd"
   ]
  },
  {
   "cell_type": "code",
   "execution_count": 2,
   "metadata": {},
   "outputs": [],
   "source": [
    "# Create function to create database\n",
    "\n",
    "def create_database():\n",
    "    # Connect to database\n",
    "    conn = psycopg2.connect(\"host=127.0.0.1 dbname=postgres user=postgres password=********\")\n",
    "    # Use connection to get cursor to execute queries\n",
    "    cur = conn.cursor()\n",
    "    # Set automatic commit\n",
    "    conn.set_session(autocommit=True)\n",
    "    \n",
    "    # Create database\n",
    "    cur.execute(\"DROP DATABASE IF EXISTS dog_adoption\")\n",
    "    cur.execute(\"CREATE DATABASE dog_adoption\")\n",
    "    \n",
    "    # Close connection to default database\n",
    "    conn.close()\n",
    "    \n",
    "    # Connect to newly created database\n",
    "    conn = psycopg2.connect(\"host=127.0.0.1 dbname=dog_adoption user=postgres password=bobo5956\")\n",
    "    # Use connection to get cursor to execute queries\n",
    "    cur = conn.cursor()\n",
    "    # Set automatic commit\n",
    "    conn.set_session(autocommit=True)\n",
    "    \n",
    "    return cur, conn"
   ]
  },
  {
   "cell_type": "code",
   "execution_count": 3,
   "metadata": {},
   "outputs": [],
   "source": [
    "# Create function to drop table\n",
    "\n",
    "def drop_tables(cur, conn):\n",
    "    for query in drop_table_queries:\n",
    "        cur.execute(query)\n",
    "        conn.commit"
   ]
  },
  {
   "cell_type": "code",
   "execution_count": 4,
   "metadata": {},
   "outputs": [],
   "source": [
    "# Create function to create table\n",
    "\n",
    "def create_table(cur, conn):\n",
    "    for query in create_table_queries:\n",
    "        cur.execute(query)\n",
    "        conn.commit"
   ]
  },
  {
   "cell_type": "markdown",
   "metadata": {},
   "source": [
    "### Read CSV files"
   ]
  },
  {
   "cell_type": "code",
   "execution_count": 5,
   "metadata": {},
   "outputs": [
    {
     "data": {
      "text/html": [
       "<div>\n",
       "<style scoped>\n",
       "    .dataframe tbody tr th:only-of-type {\n",
       "        vertical-align: middle;\n",
       "    }\n",
       "\n",
       "    .dataframe tbody tr th {\n",
       "        vertical-align: top;\n",
       "    }\n",
       "\n",
       "    .dataframe thead th {\n",
       "        text-align: right;\n",
       "    }\n",
       "</style>\n",
       "<table border=\"1\" class=\"dataframe\">\n",
       "  <thead>\n",
       "    <tr style=\"text-align: right;\">\n",
       "      <th></th>\n",
       "      <th>index</th>\n",
       "      <th>id</th>\n",
       "      <th>org_id</th>\n",
       "      <th>url</th>\n",
       "      <th>breed_primary</th>\n",
       "      <th>breed_secondary</th>\n",
       "      <th>color_primary</th>\n",
       "      <th>color_secondary</th>\n",
       "      <th>color_tertiary</th>\n",
       "      <th>age</th>\n",
       "      <th>...</th>\n",
       "      <th>size</th>\n",
       "      <th>coat</th>\n",
       "      <th>name</th>\n",
       "      <th>status</th>\n",
       "      <th>posted</th>\n",
       "      <th>contact_city</th>\n",
       "      <th>contact_state</th>\n",
       "      <th>contact_zip</th>\n",
       "      <th>contact_country</th>\n",
       "      <th>stateQ</th>\n",
       "    </tr>\n",
       "  </thead>\n",
       "  <tbody>\n",
       "    <tr>\n",
       "      <th>0</th>\n",
       "      <td>0</td>\n",
       "      <td>46042150</td>\n",
       "      <td>NV163</td>\n",
       "      <td>https://www.petfinder.com/dog/harley-46042150/...</td>\n",
       "      <td>American Staffordshire Terrier</td>\n",
       "      <td>Mixed Breed</td>\n",
       "      <td>White / Cream</td>\n",
       "      <td>Yellow / Tan / Blond / Fawn</td>\n",
       "      <td>NaN</td>\n",
       "      <td>Senior</td>\n",
       "      <td>...</td>\n",
       "      <td>Medium</td>\n",
       "      <td>Short</td>\n",
       "      <td>HARLEY</td>\n",
       "      <td>adoptable</td>\n",
       "      <td>2019-09-20T16:37:59+0000</td>\n",
       "      <td>Las Vegas</td>\n",
       "      <td>NV</td>\n",
       "      <td>89147.0</td>\n",
       "      <td>US</td>\n",
       "      <td>89009</td>\n",
       "    </tr>\n",
       "    <tr>\n",
       "      <th>1</th>\n",
       "      <td>1</td>\n",
       "      <td>46042002</td>\n",
       "      <td>NV163</td>\n",
       "      <td>https://www.petfinder.com/dog/biggie-46042002/...</td>\n",
       "      <td>Pit Bull Terrier</td>\n",
       "      <td>Mixed Breed</td>\n",
       "      <td>Brown / Chocolate</td>\n",
       "      <td>White / Cream</td>\n",
       "      <td>NaN</td>\n",
       "      <td>Adult</td>\n",
       "      <td>...</td>\n",
       "      <td>Large</td>\n",
       "      <td>Short</td>\n",
       "      <td>BIGGIE</td>\n",
       "      <td>adoptable</td>\n",
       "      <td>2019-09-20T16:24:57+0000</td>\n",
       "      <td>Las Vegas</td>\n",
       "      <td>NV</td>\n",
       "      <td>89147.0</td>\n",
       "      <td>US</td>\n",
       "      <td>89009</td>\n",
       "    </tr>\n",
       "    <tr>\n",
       "      <th>2</th>\n",
       "      <td>2</td>\n",
       "      <td>46040898</td>\n",
       "      <td>NV99</td>\n",
       "      <td>https://www.petfinder.com/dog/ziggy-46040898/n...</td>\n",
       "      <td>Shepherd</td>\n",
       "      <td>NaN</td>\n",
       "      <td>Brindle</td>\n",
       "      <td>NaN</td>\n",
       "      <td>NaN</td>\n",
       "      <td>Adult</td>\n",
       "      <td>...</td>\n",
       "      <td>Large</td>\n",
       "      <td>Short</td>\n",
       "      <td>Ziggy</td>\n",
       "      <td>adoptable</td>\n",
       "      <td>2019-09-20T14:10:11+0000</td>\n",
       "      <td>Mesquite</td>\n",
       "      <td>NV</td>\n",
       "      <td>89027.0</td>\n",
       "      <td>US</td>\n",
       "      <td>89009</td>\n",
       "    </tr>\n",
       "    <tr>\n",
       "      <th>3</th>\n",
       "      <td>3</td>\n",
       "      <td>46039877</td>\n",
       "      <td>NV202</td>\n",
       "      <td>https://www.petfinder.com/dog/gypsy-46039877/n...</td>\n",
       "      <td>German Shepherd Dog</td>\n",
       "      <td>NaN</td>\n",
       "      <td>NaN</td>\n",
       "      <td>NaN</td>\n",
       "      <td>NaN</td>\n",
       "      <td>Baby</td>\n",
       "      <td>...</td>\n",
       "      <td>Large</td>\n",
       "      <td>NaN</td>\n",
       "      <td>Gypsy</td>\n",
       "      <td>adoptable</td>\n",
       "      <td>2019-09-20T10:08:22+0000</td>\n",
       "      <td>Pahrump</td>\n",
       "      <td>NV</td>\n",
       "      <td>89048.0</td>\n",
       "      <td>US</td>\n",
       "      <td>89009</td>\n",
       "    </tr>\n",
       "    <tr>\n",
       "      <th>4</th>\n",
       "      <td>4</td>\n",
       "      <td>46039306</td>\n",
       "      <td>NV184</td>\n",
       "      <td>https://www.petfinder.com/dog/theo-46039306/nv...</td>\n",
       "      <td>Dachshund</td>\n",
       "      <td>NaN</td>\n",
       "      <td>NaN</td>\n",
       "      <td>NaN</td>\n",
       "      <td>NaN</td>\n",
       "      <td>Young</td>\n",
       "      <td>...</td>\n",
       "      <td>Small</td>\n",
       "      <td>Long</td>\n",
       "      <td>Theo</td>\n",
       "      <td>adoptable</td>\n",
       "      <td>2019-09-20T06:48:30+0000</td>\n",
       "      <td>Henderson</td>\n",
       "      <td>NV</td>\n",
       "      <td>89052.0</td>\n",
       "      <td>US</td>\n",
       "      <td>89009</td>\n",
       "    </tr>\n",
       "  </tbody>\n",
       "</table>\n",
       "<p>5 rows × 21 columns</p>\n",
       "</div>"
      ],
      "text/plain": [
       "   index        id org_id                                                url  \\\n",
       "0      0  46042150  NV163  https://www.petfinder.com/dog/harley-46042150/...   \n",
       "1      1  46042002  NV163  https://www.petfinder.com/dog/biggie-46042002/...   \n",
       "2      2  46040898   NV99  https://www.petfinder.com/dog/ziggy-46040898/n...   \n",
       "3      3  46039877  NV202  https://www.petfinder.com/dog/gypsy-46039877/n...   \n",
       "4      4  46039306  NV184  https://www.petfinder.com/dog/theo-46039306/nv...   \n",
       "\n",
       "                    breed_primary breed_secondary      color_primary  \\\n",
       "0  American Staffordshire Terrier     Mixed Breed      White / Cream   \n",
       "1                Pit Bull Terrier     Mixed Breed  Brown / Chocolate   \n",
       "2                        Shepherd             NaN            Brindle   \n",
       "3             German Shepherd Dog             NaN                NaN   \n",
       "4                       Dachshund             NaN                NaN   \n",
       "\n",
       "               color_secondary color_tertiary     age  ...    size   coat  \\\n",
       "0  Yellow / Tan / Blond / Fawn            NaN  Senior  ...  Medium  Short   \n",
       "1                White / Cream            NaN   Adult  ...   Large  Short   \n",
       "2                          NaN            NaN   Adult  ...   Large  Short   \n",
       "3                          NaN            NaN    Baby  ...   Large    NaN   \n",
       "4                          NaN            NaN   Young  ...   Small   Long   \n",
       "\n",
       "     name     status                    posted contact_city contact_state  \\\n",
       "0  HARLEY  adoptable  2019-09-20T16:37:59+0000    Las Vegas            NV   \n",
       "1  BIGGIE  adoptable  2019-09-20T16:24:57+0000    Las Vegas            NV   \n",
       "2   Ziggy  adoptable  2019-09-20T14:10:11+0000     Mesquite            NV   \n",
       "3   Gypsy  adoptable  2019-09-20T10:08:22+0000      Pahrump            NV   \n",
       "4    Theo  adoptable  2019-09-20T06:48:30+0000    Henderson            NV   \n",
       "\n",
       "  contact_zip  contact_country stateQ  \n",
       "0     89147.0               US  89009  \n",
       "1     89147.0               US  89009  \n",
       "2     89027.0               US  89009  \n",
       "3     89048.0               US  89009  \n",
       "4     89052.0               US  89009  \n",
       "\n",
       "[5 rows x 21 columns]"
      ]
     },
     "execution_count": 5,
     "metadata": {},
     "output_type": "execute_result"
    }
   ],
   "source": [
    "# description.csv - File containing the description and details of the dog breed and more\n",
    "description = pd.read_csv(\"/Users/katiehuang/Documents/Data Science/Projects/Data Engineering/Dog Adoption/Datasets/description.csv\", low_memory=False)\n",
    "description.head()\n"
   ]
  },
  {
   "cell_type": "code",
   "execution_count": 6,
   "metadata": {},
   "outputs": [
    {
     "data": {
      "text/plain": [
       "Index(['index', 'id', 'org_id', 'url', 'breed_primary', 'breed_secondary',\n",
       "       'color_primary', 'color_secondary', 'color_tertiary', 'age', 'sex',\n",
       "       'size', 'coat', 'name', 'status', 'posted', 'contact_city',\n",
       "       'contact_state', 'contact_zip', 'contact_country', 'stateQ'],\n",
       "      dtype='object')"
      ]
     },
     "execution_count": 6,
     "metadata": {},
     "output_type": "execute_result"
    }
   ],
   "source": [
    "description.columns"
   ]
  },
  {
   "cell_type": "code",
   "execution_count": 7,
   "metadata": {},
   "outputs": [
    {
     "data": {
      "text/html": [
       "<div>\n",
       "<style scoped>\n",
       "    .dataframe tbody tr th:only-of-type {\n",
       "        vertical-align: middle;\n",
       "    }\n",
       "\n",
       "    .dataframe tbody tr th {\n",
       "        vertical-align: top;\n",
       "    }\n",
       "\n",
       "    .dataframe thead th {\n",
       "        text-align: right;\n",
       "    }\n",
       "</style>\n",
       "<table border=\"1\" class=\"dataframe\">\n",
       "  <thead>\n",
       "    <tr style=\"text-align: right;\">\n",
       "      <th></th>\n",
       "      <th>index</th>\n",
       "      <th>id</th>\n",
       "      <th>contact_city</th>\n",
       "      <th>contact_state</th>\n",
       "      <th>found</th>\n",
       "      <th>manual</th>\n",
       "      <th>remove</th>\n",
       "      <th>still_there</th>\n",
       "    </tr>\n",
       "  </thead>\n",
       "  <tbody>\n",
       "    <tr>\n",
       "      <th>0</th>\n",
       "      <td>0</td>\n",
       "      <td>44520267</td>\n",
       "      <td>Anoka</td>\n",
       "      <td>MN</td>\n",
       "      <td>Arkansas</td>\n",
       "      <td>NaN</td>\n",
       "      <td>NaN</td>\n",
       "      <td>NaN</td>\n",
       "    </tr>\n",
       "    <tr>\n",
       "      <th>1</th>\n",
       "      <td>1</td>\n",
       "      <td>44698509</td>\n",
       "      <td>Groveland</td>\n",
       "      <td>FL</td>\n",
       "      <td>Abacos</td>\n",
       "      <td>Bahamas</td>\n",
       "      <td>NaN</td>\n",
       "      <td>NaN</td>\n",
       "    </tr>\n",
       "    <tr>\n",
       "      <th>2</th>\n",
       "      <td>2</td>\n",
       "      <td>45983838</td>\n",
       "      <td>Adamstown</td>\n",
       "      <td>MD</td>\n",
       "      <td>Adam</td>\n",
       "      <td>Maryland</td>\n",
       "      <td>NaN</td>\n",
       "      <td>NaN</td>\n",
       "    </tr>\n",
       "    <tr>\n",
       "      <th>3</th>\n",
       "      <td>3</td>\n",
       "      <td>44475904</td>\n",
       "      <td>Saint Cloud</td>\n",
       "      <td>MN</td>\n",
       "      <td>Adaptil</td>\n",
       "      <td>NaN</td>\n",
       "      <td>True</td>\n",
       "      <td>NaN</td>\n",
       "    </tr>\n",
       "    <tr>\n",
       "      <th>4</th>\n",
       "      <td>4</td>\n",
       "      <td>43877389</td>\n",
       "      <td>Pueblo</td>\n",
       "      <td>CO</td>\n",
       "      <td>Afghanistan</td>\n",
       "      <td>NaN</td>\n",
       "      <td>NaN</td>\n",
       "      <td>NaN</td>\n",
       "    </tr>\n",
       "  </tbody>\n",
       "</table>\n",
       "</div>"
      ],
      "text/plain": [
       "   index        id contact_city contact_state        found    manual remove  \\\n",
       "0      0  44520267        Anoka            MN     Arkansas       NaN    NaN   \n",
       "1      1  44698509    Groveland            FL       Abacos   Bahamas    NaN   \n",
       "2      2  45983838    Adamstown            MD         Adam  Maryland    NaN   \n",
       "3      3  44475904  Saint Cloud            MN      Adaptil       NaN   True   \n",
       "4      4  43877389       Pueblo            CO  Afghanistan       NaN    NaN   \n",
       "\n",
       "  still_there  \n",
       "0         NaN  \n",
       "1         NaN  \n",
       "2         NaN  \n",
       "3         NaN  \n",
       "4         NaN  "
      ]
     },
     "execution_count": 7,
     "metadata": {},
     "output_type": "execute_result"
    }
   ],
   "source": [
    "# travel.csv - File containing the description and details of the dog breed and more\n",
    "travel = pd.read_csv(\"/Users/katiehuang/Documents/Data Science/Projects/Data Engineering/Dog Adoption/Datasets/travel.csv\")\n",
    "travel.head()"
   ]
  },
  {
   "cell_type": "code",
   "execution_count": 8,
   "metadata": {},
   "outputs": [
    {
     "data": {
      "text/plain": [
       "Index(['index', 'id', 'contact_city', 'contact_state', 'found', 'manual',\n",
       "       'remove', 'still_there'],\n",
       "      dtype='object')"
      ]
     },
     "execution_count": 8,
     "metadata": {},
     "output_type": "execute_result"
    }
   ],
   "source": [
    "travel.columns"
   ]
  },
  {
   "cell_type": "code",
   "execution_count": 9,
   "metadata": {},
   "outputs": [
    {
     "data": {
      "text/html": [
       "<div>\n",
       "<style scoped>\n",
       "    .dataframe tbody tr th:only-of-type {\n",
       "        vertical-align: middle;\n",
       "    }\n",
       "\n",
       "    .dataframe tbody tr th {\n",
       "        vertical-align: top;\n",
       "    }\n",
       "\n",
       "    .dataframe thead th {\n",
       "        text-align: right;\n",
       "    }\n",
       "</style>\n",
       "<table border=\"1\" class=\"dataframe\">\n",
       "  <thead>\n",
       "    <tr style=\"text-align: right;\">\n",
       "      <th></th>\n",
       "      <th>index</th>\n",
       "      <th>location</th>\n",
       "      <th>exported</th>\n",
       "      <th>imported</th>\n",
       "      <th>total</th>\n",
       "      <th>inUS</th>\n",
       "    </tr>\n",
       "  </thead>\n",
       "  <tbody>\n",
       "    <tr>\n",
       "      <th>0</th>\n",
       "      <td>0</td>\n",
       "      <td>Texas</td>\n",
       "      <td>635.0</td>\n",
       "      <td>NaN</td>\n",
       "      <td>566.0</td>\n",
       "      <td>True</td>\n",
       "    </tr>\n",
       "    <tr>\n",
       "      <th>1</th>\n",
       "      <td>1</td>\n",
       "      <td>Alabama</td>\n",
       "      <td>268.0</td>\n",
       "      <td>2.0</td>\n",
       "      <td>1428.0</td>\n",
       "      <td>True</td>\n",
       "    </tr>\n",
       "    <tr>\n",
       "      <th>2</th>\n",
       "      <td>2</td>\n",
       "      <td>North Carolina</td>\n",
       "      <td>158.0</td>\n",
       "      <td>14.0</td>\n",
       "      <td>2627.0</td>\n",
       "      <td>True</td>\n",
       "    </tr>\n",
       "    <tr>\n",
       "      <th>3</th>\n",
       "      <td>3</td>\n",
       "      <td>South Carolina</td>\n",
       "      <td>139.0</td>\n",
       "      <td>12.0</td>\n",
       "      <td>1618.0</td>\n",
       "      <td>True</td>\n",
       "    </tr>\n",
       "    <tr>\n",
       "      <th>4</th>\n",
       "      <td>4</td>\n",
       "      <td>Georgia</td>\n",
       "      <td>137.0</td>\n",
       "      <td>19.0</td>\n",
       "      <td>3479.0</td>\n",
       "      <td>True</td>\n",
       "    </tr>\n",
       "  </tbody>\n",
       "</table>\n",
       "</div>"
      ],
      "text/plain": [
       "   index        location  exported  imported   total  inUS\n",
       "0      0           Texas     635.0       NaN   566.0  True\n",
       "1      1         Alabama     268.0       2.0  1428.0  True\n",
       "2      2  North Carolina     158.0      14.0  2627.0  True\n",
       "3      3  South Carolina     139.0      12.0  1618.0  True\n",
       "4      4         Georgia     137.0      19.0  3479.0  True"
      ]
     },
     "execution_count": 9,
     "metadata": {},
     "output_type": "execute_result"
    }
   ],
   "source": [
    "# location.csv - File containing the dogs' current location\n",
    "location = pd.read_csv(\"/Users/katiehuang/Documents/Data Science/Projects/Data Engineering/Dog Adoption/Datasets/location.csv\")\n",
    "location.head()"
   ]
  },
  {
   "cell_type": "code",
   "execution_count": 10,
   "metadata": {},
   "outputs": [
    {
     "data": {
      "text/plain": [
       "Index(['index', 'location', 'exported', 'imported', 'total', 'inUS'], dtype='object')"
      ]
     },
     "execution_count": 10,
     "metadata": {},
     "output_type": "execute_result"
    }
   ],
   "source": [
    "location.columns"
   ]
  },
  {
   "cell_type": "code",
   "execution_count": 11,
   "metadata": {},
   "outputs": [],
   "source": [
    "cur, conn = create_database()"
   ]
  },
  {
   "cell_type": "markdown",
   "metadata": {},
   "source": [
    "If run into the following error while creating database:\n",
    "\n",
    "`ObjectInUse: database \"dog_adoption\" is being accessed by other users\n",
    "DETAIL:  There is 1 other session using the database.`\n",
    "\n",
    "Then run this in psql terminal:\n",
    "\n",
    "`REVOKE CONNECT ON DATABASE dog_adoption FROM public;`\n",
    "\n",
    "`SELECT pg_terminate_backend(pg_stat_activity.pid) FROM pg_stat_activity WHERE pg_stat_activity.datname = 'dog_adoption';`"
   ]
  },
  {
   "cell_type": "code",
   "execution_count": 12,
   "metadata": {},
   "outputs": [
    {
     "data": {
      "text/plain": [
       "index                int64\n",
       "id                   int64\n",
       "org_id              object\n",
       "url                 object\n",
       "breed_primary       object\n",
       "breed_secondary     object\n",
       "color_primary       object\n",
       "color_secondary     object\n",
       "color_tertiary      object\n",
       "age                 object\n",
       "sex                 object\n",
       "size                object\n",
       "coat                object\n",
       "name                object\n",
       "status              object\n",
       "posted              object\n",
       "contact_city        object\n",
       "contact_state       object\n",
       "contact_zip        float64\n",
       "contact_country     object\n",
       "stateQ              object\n",
       "dtype: object"
      ]
     },
     "execution_count": 12,
     "metadata": {},
     "output_type": "execute_result"
    }
   ],
   "source": [
    "description.dtypes"
   ]
  },
  {
   "cell_type": "markdown",
   "metadata": {},
   "source": [
    "### Create tables\n",
    "\n",
    "This process creates empty table only. "
   ]
  },
  {
   "cell_type": "code",
   "execution_count": 13,
   "metadata": {},
   "outputs": [],
   "source": [
    "create_description_table = (\"\"\"CREATE TABLE IF NOT EXISTS description \\\n",
    "                (index INT PRIMARY KEY, id INT, org_id VARCHAR, url VARCHAR, breed_primary VARCHAR, \\\n",
    "                breed_secondary VARCHAR, color_primary VARCHAR, color_secondary VARCHAR, color_tertiary VARCHAR, \\\n",
    "                age VARCHAR, sex VARCHAR, size VARCHAR, coat VARCHAR, name VARCHAR, status VARCHAR, \\\n",
    "                posted VARCHAR, contact_city VARCHAR, contact_state VARCHAR, contact_zip VARCHAR, \\\n",
    "                contact_country VARCHAR, stateQ VARCHAR)\"\"\")"
   ]
  },
  {
   "cell_type": "code",
   "execution_count": 14,
   "metadata": {},
   "outputs": [],
   "source": [
    "cur.execute(create_description_table)\n",
    "conn.commit()"
   ]
  },
  {
   "cell_type": "code",
   "execution_count": 15,
   "metadata": {},
   "outputs": [
    {
     "data": {
      "text/plain": [
       "index             int64\n",
       "id                int64\n",
       "contact_city     object\n",
       "contact_state    object\n",
       "found            object\n",
       "manual           object\n",
       "remove           object\n",
       "still_there      object\n",
       "dtype: object"
      ]
     },
     "execution_count": 15,
     "metadata": {},
     "output_type": "execute_result"
    }
   ],
   "source": [
    "travel.dtypes"
   ]
  },
  {
   "cell_type": "code",
   "execution_count": 16,
   "metadata": {},
   "outputs": [],
   "source": [
    "create_travel_table = (\"\"\"CREATE TABLE IF NOT EXISTS travel \\\n",
    "                (index INT PRIMARY KEY, id INT, contact_city VARCHAR, contact_state VARCHAR, \\\n",
    "                found VARCHAR, manual VARCHAR, remove VARCHAR, still_there VARCHAR)\"\"\")\n",
    "\n",
    "cur.execute(create_travel_table)\n",
    "conn.commit()"
   ]
  },
  {
   "cell_type": "code",
   "execution_count": 17,
   "metadata": {},
   "outputs": [
    {
     "data": {
      "text/plain": [
       "index         int64\n",
       "location     object\n",
       "exported    float64\n",
       "imported    float64\n",
       "total       float64\n",
       "inUS           bool\n",
       "dtype: object"
      ]
     },
     "execution_count": 17,
     "metadata": {},
     "output_type": "execute_result"
    }
   ],
   "source": [
    "location.dtypes"
   ]
  },
  {
   "cell_type": "code",
   "execution_count": 18,
   "metadata": {},
   "outputs": [
    {
     "data": {
      "text/html": [
       "<div>\n",
       "<style scoped>\n",
       "    .dataframe tbody tr th:only-of-type {\n",
       "        vertical-align: middle;\n",
       "    }\n",
       "\n",
       "    .dataframe tbody tr th {\n",
       "        vertical-align: top;\n",
       "    }\n",
       "\n",
       "    .dataframe thead th {\n",
       "        text-align: right;\n",
       "    }\n",
       "</style>\n",
       "<table border=\"1\" class=\"dataframe\">\n",
       "  <thead>\n",
       "    <tr style=\"text-align: right;\">\n",
       "      <th></th>\n",
       "      <th>index</th>\n",
       "      <th>location</th>\n",
       "      <th>exported</th>\n",
       "      <th>imported</th>\n",
       "      <th>total</th>\n",
       "      <th>inUS</th>\n",
       "    </tr>\n",
       "  </thead>\n",
       "  <tbody>\n",
       "    <tr>\n",
       "      <th>0</th>\n",
       "      <td>0</td>\n",
       "      <td>Texas</td>\n",
       "      <td>635.0</td>\n",
       "      <td>NaN</td>\n",
       "      <td>566.0</td>\n",
       "      <td>True</td>\n",
       "    </tr>\n",
       "    <tr>\n",
       "      <th>1</th>\n",
       "      <td>1</td>\n",
       "      <td>Alabama</td>\n",
       "      <td>268.0</td>\n",
       "      <td>2.0</td>\n",
       "      <td>1428.0</td>\n",
       "      <td>True</td>\n",
       "    </tr>\n",
       "    <tr>\n",
       "      <th>2</th>\n",
       "      <td>2</td>\n",
       "      <td>North Carolina</td>\n",
       "      <td>158.0</td>\n",
       "      <td>14.0</td>\n",
       "      <td>2627.0</td>\n",
       "      <td>True</td>\n",
       "    </tr>\n",
       "    <tr>\n",
       "      <th>3</th>\n",
       "      <td>3</td>\n",
       "      <td>South Carolina</td>\n",
       "      <td>139.0</td>\n",
       "      <td>12.0</td>\n",
       "      <td>1618.0</td>\n",
       "      <td>True</td>\n",
       "    </tr>\n",
       "    <tr>\n",
       "      <th>4</th>\n",
       "      <td>4</td>\n",
       "      <td>Georgia</td>\n",
       "      <td>137.0</td>\n",
       "      <td>19.0</td>\n",
       "      <td>3479.0</td>\n",
       "      <td>True</td>\n",
       "    </tr>\n",
       "  </tbody>\n",
       "</table>\n",
       "</div>"
      ],
      "text/plain": [
       "   index        location  exported  imported   total  inUS\n",
       "0      0           Texas     635.0       NaN   566.0  True\n",
       "1      1         Alabama     268.0       2.0  1428.0  True\n",
       "2      2  North Carolina     158.0      14.0  2627.0  True\n",
       "3      3  South Carolina     139.0      12.0  1618.0  True\n",
       "4      4         Georgia     137.0      19.0  3479.0  True"
      ]
     },
     "execution_count": 18,
     "metadata": {},
     "output_type": "execute_result"
    }
   ],
   "source": [
    "location.head()"
   ]
  },
  {
   "cell_type": "code",
   "execution_count": 19,
   "metadata": {},
   "outputs": [],
   "source": [
    "create_location_table = (\"\"\"CREATE TABLE IF NOT EXISTS location \\\n",
    "                (index INT PRIMARY KEY, location VARCHAR, exported FLOAT, imported FLOAT, \\\n",
    "                total FLOAT, inUS BOOL)\"\"\")\n",
    "\n",
    "cur.execute(create_location_table)\n",
    "conn.commit()"
   ]
  },
  {
   "cell_type": "markdown",
   "metadata": {},
   "source": [
    "### Insert rows into table"
   ]
  },
  {
   "cell_type": "code",
   "execution_count": 20,
   "metadata": {
    "tags": []
   },
   "outputs": [],
   "source": [
    "insert_description_table = (\"\"\"INSERT INTO description \\\n",
    "                (index, id, org_id, url, breed_primary, breed_secondary, \\\n",
    "                color_primary, color_secondary, color_tertiary, \\\n",
    "                age, sex, size, coat, name, status, \\\n",
    "                posted, contact_city, contact_state, contact_zip, \\\n",
    "                contact_country, stateQ)\n",
    "                VALUES (%s, %s, %s, %s, %s, %s, %s, %s, %s, %s, %s, \\\n",
    "                 %s, %s, %s, %s, %s, %s, %s, %s, %s, %s)\"\"\")\n",
    "\n",
    "\n",
    "# Iterating through index (i) and rows in description table\n",
    "for i, row in description.iterrows():\n",
    "    # Pass INSERT INTO query in cur.execute() and list of data\n",
    "    cur.execute(insert_description_table, list(row))"
   ]
  },
  {
   "cell_type": "code",
   "execution_count": 22,
   "metadata": {
    "tags": []
   },
   "outputs": [],
   "source": [
    "insert_travel_table = (\"\"\"INSERT INTO travel \\\n",
    "                (index, id, contact_city, contact_state, \\\n",
    "                found, manual, remove, still_there)\n",
    "                VALUES (%s, %s, %s, %s, %s, %s, %s, %s)\"\"\")\n",
    "\n",
    "for i, row in travel.iterrows(): # Iterating row by row in description table\n",
    "    cur.execute(insert_travel_table, list(row))"
   ]
  },
  {
   "cell_type": "code",
   "execution_count": 23,
   "metadata": {},
   "outputs": [],
   "source": [
    "insert_location_table = (\"\"\"INSERT INTO location \\\n",
    "                (index, location, exported, imported, \\\n",
    "                total, inUS)\n",
    "                VALUES (%s, %s, %s, %s, %s, %s)\"\"\")\n",
    "\n",
    "for i, row in location.iterrows(): # Iterating row by row in description table\n",
    "    cur.execute(insert_location_table, list(row))"
   ]
  },
  {
   "cell_type": "code",
   "execution_count": null,
   "metadata": {},
   "outputs": [],
   "source": []
  }
 ],
 "metadata": {
  "kernelspec": {
   "display_name": "Python 3",
   "language": "python",
   "name": "python3"
  },
  "language_info": {
   "codemirror_mode": {
    "name": "ipython",
    "version": 3
   },
   "file_extension": ".py",
   "mimetype": "text/x-python",
   "name": "python",
   "nbconvert_exporter": "python",
   "pygments_lexer": "ipython3",
   "version": "3.8.11"
  }
 },
 "nbformat": 4,
 "nbformat_minor": 4
}
